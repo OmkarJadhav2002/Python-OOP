{
 "cells": [
  {
   "cell_type": "markdown",
   "id": "7bacc20e",
   "metadata": {},
   "source": [
    "**The main power of OOP is that the OOP gives a programmer the power to create their own datatypes.**\n",
    "\n",
    "There are various principles(`pillars`) in OOP:\n",
    "* 1. Class and Object\n",
    "* 2. Inheritance \n",
    "* 3. Polymorphism\n",
    "* 4. Encapsulation \n",
    "* 5. Abstraction\n",
    "\n",
    "\n",
    "**1. Class:** \n",
    "* Based on real world entities \n",
    "* It is a blueprint where set of rules are defined.\n",
    "* Set of rules are the rules that are follwed by objects.\n",
    "* Class contains Data/Property and Functions/Behaviour\n",
    "\n",
    "* You use Pascal Case for the name of Class.\n",
    "    * for ex. Class HelloWorld\n",
    "* Two types of classes:\n",
    "    * a. Built in classes\n",
    "    * b. User defined classes\n",
    "* Functions inside i.e implemented inside the class are called as `methods` where as the functions that declared/implemented outside the class are called as `Functions`.\n",
    "    * for ex. l = [1, 2, 3]\n",
    "              l.append() -> method\n",
    "              len(l) -> function\n",
    "\n",
    "for ex. Mercedes is a class and G63 is a object\n",
    "\n",
    "**Class Diagram**\n",
    "* `+` - public\n",
    "* `-` - private\n",
    "\n",
    "\n",
    "**2. Object:**\n",
    "* Object is an instance of class."
   ]
  },
  {
   "cell_type": "code",
   "execution_count": 1,
   "id": "91681cec",
   "metadata": {},
   "outputs": [
    {
     "name": "stdout",
     "output_type": "stream",
     "text": [
      "<class 'list'>\n"
     ]
    },
    {
     "ename": "AttributeError",
     "evalue": "'list' object has no attribute 'upper'",
     "output_type": "error",
     "traceback": [
      "\u001b[1;31m---------------------------------------------------------------------------\u001b[0m",
      "\u001b[1;31mAttributeError\u001b[0m                            Traceback (most recent call last)",
      "Input \u001b[1;32mIn [1]\u001b[0m, in \u001b[0;36m<cell line: 4>\u001b[1;34m()\u001b[0m\n\u001b[0;32m      1\u001b[0m l \u001b[38;5;241m=\u001b[39m [\u001b[38;5;241m1\u001b[39m, \u001b[38;5;241m2\u001b[39m, \u001b[38;5;241m3\u001b[39m]  \u001b[38;5;66;03m# here the variable 'l' is the object of class 'List' (built in datatypes)\u001b[39;00m\n\u001b[0;32m      2\u001b[0m \u001b[38;5;28mprint\u001b[39m(\u001b[38;5;28mtype\u001b[39m(l))\n\u001b[1;32m----> 4\u001b[0m \u001b[38;5;28mprint\u001b[39m(\u001b[43ml\u001b[49m\u001b[38;5;241;43m.\u001b[39;49m\u001b[43mupper\u001b[49m())\n",
      "\u001b[1;31mAttributeError\u001b[0m: 'list' object has no attribute 'upper'"
     ]
    }
   ],
   "source": [
    "l = [1, 2, 3]  # here the variable 'l' is the object of class 'List' (built in datatypes)\n",
    "print(type(l))\n",
    "\n",
    "print(l.upper())"
   ]
  },
  {
   "cell_type": "markdown",
   "id": "683a7237",
   "metadata": {},
   "source": [
    "# Python-OOP\n",
    "## Lecture 1\n",
    "### ATM Application\n",
    "* Basic application/program to understand the flow of OOP"
   ]
  },
  {
   "cell_type": "code",
   "execution_count": 1,
   "id": "238e399e",
   "metadata": {},
   "outputs": [],
   "source": [
    "class ATM:\n",
    "    # Magic Method (Constructor) -> special method (no need to call it explicetley)\n",
    "    def __init__(self):\n",
    "        print(id(self))\n",
    "        self.pin = \"\"\n",
    "        self.balance = 0\n",
    "        # self.menu()\n",
    "        \n",
    "    def menu(self):\n",
    "        user_input = input(\"\"\"\n",
    "        How can I help you?\n",
    "        1. Press 1 to create pin.\n",
    "        2. Press 2 to change pin.\n",
    "        3. Press 3 to check balance.\n",
    "        4. Press 4 to withdraw money.\n",
    "        5. To exit.\n",
    "        \"\"\")\n",
    "         \n",
    "        if user_input == '1':\n",
    "            self.create_pin()\n",
    "        elif user_input == '2':\n",
    "            self.change_pin()\n",
    "        elif user_input == '3':\n",
    "            self.check_balance()\n",
    "        elif user_input == '4':\n",
    "            self.withdraw_money()\n",
    "        else:\n",
    "            exit()\n",
    "        \n",
    "    def create_pin(self):\n",
    "        # creating the pin \n",
    "        user_pin = input(\"Enter your pin: \")\n",
    "        self.pin = user_pin\n",
    "        \n",
    "        # intialzing the balance (technically not c)\n",
    "        user_balance = int(input(\"Enter your balance: \"))\n",
    "        self.balance = user_balance\n",
    "        \n",
    "        print(\"PIN Created successfully.\")\n",
    "        \n",
    "        self.menu()\n",
    "    \n",
    "    def change_pin(self):\n",
    "        old_pin = input(\"Enter your old pin: \")\n",
    "        if old_pin == self.pin:\n",
    "            new_pin = input(\"Enter your new pin: \")\n",
    "            self.pin = new_pin\n",
    "            print(\"New pin created successfully.\")\n",
    "        else:\n",
    "            print(\"Chukicha pin takla ahe. Juna PIN athwat nsl tr ghari ja.\")\n",
    "        \n",
    "        self.menu()\n",
    "        \n",
    "    def check_balance(self):\n",
    "        user_pin = input(\"Enter your pin: \")\n",
    "        if user_pin == self.pin:\n",
    "            print(\"Your balance is: \", self.balance)\n",
    "        else:\n",
    "            print(\"Chukicha pin takla ahe. Juna PIN athwat nsl tr ghari ja.\")\n",
    "            \n",
    "        self.menu()\n",
    "        \n",
    "    \n",
    "    def withdraw_money(self):\n",
    "        user_pin = input(\"Enter your pin: \")\n",
    "        if user_pin == self.pin:\n",
    "            amount = int(input(\"Enter the amount: \"))\n",
    "            if amount <= self.balance:\n",
    "                self.balance = self.balance - amount\n",
    "                print(\"Please collect your money.\")\n",
    "                print(\"Remaining balance in your account is: \", self.balance) \n",
    "            else:\n",
    "                print(\"Kya re bhikmangya, kya dekh raha he. Halwa he kya.\")\n",
    "        else:\n",
    "            print(\"Mamya pin chukicha a.\")\n",
    "            \n",
    "        self.menu()"
   ]
  },
  {
   "cell_type": "code",
   "execution_count": 2,
   "id": "2a01dd3d",
   "metadata": {},
   "outputs": [
    {
     "name": "stdout",
     "output_type": "stream",
     "text": [
      "2139344048608\n"
     ]
    }
   ],
   "source": [
    "atm = ATM()"
   ]
  },
  {
   "cell_type": "code",
   "execution_count": 3,
   "id": "cec97543",
   "metadata": {},
   "outputs": [],
   "source": [
    "# atm.create_pin()"
   ]
  },
  {
   "cell_type": "code",
   "execution_count": 4,
   "id": "59a336c5",
   "metadata": {},
   "outputs": [
    {
     "data": {
      "text/plain": [
       "2139344048608"
      ]
     },
     "execution_count": 4,
     "metadata": {},
     "output_type": "execute_result"
    }
   ],
   "source": [
    "id(atm)"
   ]
  },
  {
   "cell_type": "code",
   "execution_count": 5,
   "id": "168dea57",
   "metadata": {},
   "outputs": [
    {
     "name": "stdout",
     "output_type": "stream",
     "text": [
      "2139344059168\n"
     ]
    }
   ],
   "source": [
    "atm1 = ATM()"
   ]
  },
  {
   "cell_type": "code",
   "execution_count": 6,
   "id": "be65694f",
   "metadata": {},
   "outputs": [
    {
     "data": {
      "text/plain": [
       "2139344059168"
      ]
     },
     "execution_count": 6,
     "metadata": {},
     "output_type": "execute_result"
    }
   ],
   "source": [
    "id(atm1)"
   ]
  },
  {
   "cell_type": "markdown",
   "id": "cbc2c87a",
   "metadata": {},
   "source": [
    "### Dunder Methods(Magic Methods) ***\n",
    "\n",
    "* Speicial kind of methods\n",
    "* Eg. __name__, __init__ (underscore, underscore)\n",
    "* In python, there are 5000  magic methods\n",
    "* Have special super powers\n",
    "* With the help of magic methods you can make user defind datatypes\n",
    "\n",
    "#### 1.  Constructor\n",
    "* It is special type of method.\n",
    "* Piece of code, which automatically gets executed when the object is created.(For eg. When application starts)\n",
    "* Used to write a configuration related code(configuration related task) (jo bhi ap user ko puche bina karna chahate ho)\n",
    "* In constructor you write a code, jiska control user ke pass nhi he.\n",
    "* Constructor is a code jiska control user ke pas nhi he. \n",
    "* Eg. If there are some applications, and you want to connect with internet/server, tho ap user se to nhi bol sakte ki connect kardo internet se ya server se, so to automatically connect with the server/internet we write that code in constructor.\n",
    "* For ex. Code for connecting the backend to the server/database. \n",
    "* You cannot rename the constructor name in python. (it is always be __init__)\n",
    "\n",
    "\n",
    "*** GOD IS THE PROGRAMMER, EARTH IS A CLASS, HUMAN BEINGS ARE OBJECTS AND CONSTRUCTOR IS LIKE A DEATH PROGRAM.***    \n",
    "\n",
    "**Golden Rule of OOP: The data members and member functions of class are only access by the object of that class.**\n",
    "\n",
    "**self** (Like Shriman/Shri😁)\n",
    "* Default parameter \n",
    "* self is nothing but the `current` object of the class (instance of class)\n",
    "* help to establish a communication between the functions/variables(intraclass communication) of class with each other (because they can't direct communicate with each other(**GROO**))\n",
    "* like `this` in C++/Java\n",
    "* You can give any name to self rather than self\n",
    "* self is not a keyword it is a convention"
   ]
  },
  {
   "cell_type": "markdown",
   "id": "806828a6",
   "metadata": {},
   "source": [
    "#### Creating user-defined datatype"
   ]
  },
  {
   "cell_type": "code",
   "execution_count": 7,
   "id": "d4020030",
   "metadata": {},
   "outputs": [],
   "source": [
    "class Fraction:\n",
    "    # Parameterized constructor (requires inputs while object creation)\n",
    "    # Magic methods \n",
    "    def __init__(self, x, y):\n",
    "        self.num = x\n",
    "        self.den = y\n",
    "        \n",
    "    # How to show the object? \n",
    "    def __str__(self):\n",
    "        return '{}/{}'.format(self.num, self.den)\n",
    "    \n",
    "    def __add__(self, other):\n",
    "        new_num = self.num*other.den + other.num*self.den\n",
    "        new_den = self.den*other.den\n",
    "        \n",
    "        return '{}/{}'.format(new_num, new_den)\n",
    "    \n",
    "    def __sub__(self, other):\n",
    "        new_num = self.num*other.den - other.num*self.den\n",
    "        new_den = self.den*other.den\n",
    "        \n",
    "        return '{}/{}'.format(new_num, new_den)\n",
    "    \n",
    "    def __mul__(self, other):\n",
    "        new_num = self.num*other.num\n",
    "        new_den = self.den*other.den\n",
    "        \n",
    "        return '{}/{}'.format(new_num, new_den)\n",
    "    \n",
    "    def __truediv__(self, other):\n",
    "        new_num = self.num/other.den\n",
    "        new_den = self.den/other.num\n",
    "        \n",
    "        return '{}/{}'.format(new_num, new_den)\n",
    "    \n",
    "    # Non magic methods\n",
    "    def convert_to_decimal(self):\n",
    "        return self.num/self.den"
   ]
  },
  {
   "cell_type": "code",
   "execution_count": 8,
   "id": "03d87ee0",
   "metadata": {},
   "outputs": [],
   "source": [
    "frac1 = Fraction(1, 2)\n",
    "frac2 = Fraction(1, 2)"
   ]
  },
  {
   "cell_type": "code",
   "execution_count": 9,
   "id": "8d93bc44",
   "metadata": {},
   "outputs": [
    {
     "name": "stdout",
     "output_type": "stream",
     "text": [
      "4/4\n",
      "0/4\n",
      "1/4\n",
      "0.5/2.0\n",
      "0.5\n"
     ]
    }
   ],
   "source": [
    "print(frac1+frac2)\n",
    "print(frac1-frac2)\n",
    "print(frac1*frac2)\n",
    "print(frac1/frac2)\n",
    "print(frac1.convert_to_decimal())"
   ]
  },
  {
   "cell_type": "markdown",
   "id": "f4f79440",
   "metadata": {},
   "source": [
    "## Lecture 2"
   ]
  },
  {
   "cell_type": "markdown",
   "id": "ea7937bd",
   "metadata": {},
   "source": [
    "#### Write OOP classes to handle the following scenarios:\n",
    "* A user can create and view 2D coordinates\n",
    "* A user can find out the distance between 2 coordinates\n",
    "* A user can find find the distance of a coordinate from origin\n",
    "* A user can check if a point lies on a given line\n",
    "* A user can find the distance between a given 2D point and a given line"
   ]
  },
  {
   "cell_type": "code",
   "execution_count": 10,
   "id": "7f6c1a2c",
   "metadata": {},
   "outputs": [],
   "source": [
    "# Planning Mode while writing the code in OOP\n",
    "class Point:\n",
    "    def __init__(self, x, y):\n",
    "        self.x_cor = x\n",
    "        self.y_cor = y\n",
    "        \n",
    "    # To view the Object\n",
    "    def __str__(self):\n",
    "        return \"<{}, {}>\".format(self.x_cor, self.y_cor)\n",
    "    \n",
    "    def euclidian_dis(self, other): # (1st point, 2nd point)\n",
    "        return ((self.x_cor - other.x_cor)**2 + (self.y_cor-other.y_cor)**2)**0.5 # formula to find euclidian distance\n",
    "    \n",
    "    def distance_from_origin(self):\n",
    "        # return (self.x_cor**2 + self.y_cor**2)**0.5\n",
    "        # or\n",
    "        return self.euclidian_dis(Point(0, 0)) # *** class ka object inside the class\n",
    "\n",
    "# Class for line \n",
    "class Line:\n",
    "    def __init__(self, A, B, C):\n",
    "        self.A = A\n",
    "        self.B = B\n",
    "        self.C = C\n",
    "        \n",
    "    def __str__(self):\n",
    "        return \"{}x + {}y + {} = 0\".format(self.A, self.B, self.C)\n",
    "    \n",
    "    def point_on_line(line, point):\n",
    "        if line.A*point.x_cor + line.B*point.y_cor + line.C == 0:\n",
    "            return \"Lies on the line.\"\n",
    "        else:\n",
    "            return \"Does not lie on the line.\"\n",
    "    \n",
    "    def find_distance(line, point):\n",
    "        return abs(line.A*point.x_cor + line.B*point.y_cor +line.C)/(line.A**2+line.B**2)**0.5\n",
    "    \n",
    "    def intersect(line1, line2):\n",
    "        x = (line1.B*line2.C - line2.B*line1.C)/(line1.A*line2.B - line2.A*line1.B)\n",
    "        y = (line1.C*line2.A - line2.C*line1.A)/(line1.A*line2.B - line2.A*line1.B)\n",
    "        \n",
    "        if x == 0 and y == 0:\n",
    "            return \"Lines are intersecting.\"\n",
    "        else:\n",
    "            return \"Lines are not intersecting.\""
   ]
  },
  {
   "cell_type": "code",
   "execution_count": 11,
   "id": "7be2965a",
   "metadata": {},
   "outputs": [
    {
     "name": "stdout",
     "output_type": "stream",
     "text": [
      "Euclidian distance between points:  12.36931687685298\n",
      "Euclidiain distance of a point from origin:  12.36931687685298\n"
     ]
    }
   ],
   "source": [
    "p1 = Point(12, 3)\n",
    "p2 = Point(0, 0)\n",
    "print(\"Euclidian distance between points: \", p1.euclidian_dis(p2))\n",
    "print(\"Euclidiain distance of a point from origin: \", p1.distance_from_origin())"
   ]
  },
  {
   "cell_type": "code",
   "execution_count": 12,
   "id": "89c7a924",
   "metadata": {},
   "outputs": [
    {
     "name": "stdout",
     "output_type": "stream",
     "text": [
      "10x + 20y + -30 = 0\n",
      "<1, 1>\n",
      "Lies on the line.\n",
      "0.0\n"
     ]
    }
   ],
   "source": [
    "l = Line(10, 20, -30)\n",
    "p = Point(1, 1)\n",
    "print(l)\n",
    "print(p) \n",
    "\n",
    "print(l.point_on_line(p))\n",
    "print(l.find_distance(p))"
   ]
  },
  {
   "cell_type": "markdown",
   "id": "94e388ea",
   "metadata": {},
   "source": [
    "#### How objects access attributes?"
   ]
  },
  {
   "cell_type": "code",
   "execution_count": 13,
   "id": "9f4ddea7",
   "metadata": {},
   "outputs": [],
   "source": [
    "class Person:\n",
    "    def __init__(self, name, country_name):\n",
    "        self.name = name\n",
    "        self.country_name = country_name\n",
    "        \n",
    "    def greet(self):\n",
    "        if self.country_name == \"India\":\n",
    "            print(\"Namaste\", self.name)\n",
    "        else:\n",
    "            print(\"Hello\", self.name)"
   ]
  },
  {
   "cell_type": "code",
   "execution_count": 14,
   "id": "5be872ec",
   "metadata": {},
   "outputs": [],
   "source": [
    "p = Person(\"Omkar\", \"India\")"
   ]
  },
  {
   "cell_type": "code",
   "execution_count": 15,
   "id": "aee47ca4",
   "metadata": {},
   "outputs": [
    {
     "name": "stdout",
     "output_type": "stream",
     "text": [
      "Namaste Omkar\n"
     ]
    }
   ],
   "source": [
    "p.greet()"
   ]
  },
  {
   "cell_type": "markdown",
   "id": "6cc4f7d8",
   "metadata": {},
   "source": [
    "#### Attribute creation outside the class"
   ]
  },
  {
   "cell_type": "code",
   "execution_count": 16,
   "id": "073dbaab",
   "metadata": {},
   "outputs": [],
   "source": [
    "p.gender = \"Male\""
   ]
  },
  {
   "cell_type": "code",
   "execution_count": 17,
   "id": "3a1aeb56",
   "metadata": {},
   "outputs": [
    {
     "data": {
      "text/plain": [
       "'Male'"
      ]
     },
     "execution_count": 17,
     "metadata": {},
     "output_type": "execute_result"
    }
   ],
   "source": [
    "p.gender"
   ]
  },
  {
   "cell_type": "markdown",
   "id": "16413553",
   "metadata": {},
   "source": [
    "### Reference Variables\n",
    "\n",
    "* Reference variables holds the objects\n",
    "* We can create objects without reference variable as well\n",
    "* An object can have multiple reference variables\n",
    "* Assigning a new reference variable to an existing object does not create a new object\n",
    "* you have to careful while creating reference variables, as the changes will reflect in memory "
   ]
  },
  {
   "cell_type": "code",
   "execution_count": 18,
   "id": "5efdd70a",
   "metadata": {},
   "outputs": [
    {
     "name": "stdout",
     "output_type": "stream",
     "text": [
      "<__main__.Person object at 0x000001F21AD78040>\n",
      "<__main__.Person object at 0x000001F21AD78040>\n"
     ]
    }
   ],
   "source": [
    "# Object without reference\n",
    "class Person:\n",
    "    def __init__(self):\n",
    "        self.name = \"Omkar\"\n",
    "        self.gender = \"Male\"\n",
    "\n",
    "# p is a reference variable, which have the address of object, it is not a object (p has the memory address/location \n",
    "# of the object)\n",
    "# Person() # This is also valid, but we can't get the exact address of it, so to avoid this we use reference variables\n",
    "p = Person()\n",
    "q = p  \n",
    "\n",
    "print(p)\n",
    "print(q)"
   ]
  },
  {
   "cell_type": "code",
   "execution_count": 19,
   "id": "38dfdb4c",
   "metadata": {},
   "outputs": [
    {
     "name": "stdout",
     "output_type": "stream",
     "text": [
      "Omkar\n",
      "Omkar\n",
      "Omii\n",
      "Omii\n"
     ]
    }
   ],
   "source": [
    "print(p.name)\n",
    "print(q.name)\n",
    "q.name = \"Omii\" # ***\n",
    "print(p.name)\n",
    "print(q.name)"
   ]
  },
  {
   "cell_type": "markdown",
   "id": "508708eb",
   "metadata": {},
   "source": [
    "### Pass by reference ***\n",
    "* You are not passing an actual object, you are passing an address of an object."
   ]
  },
  {
   "cell_type": "code",
   "execution_count": 20,
   "id": "4c7ac888",
   "metadata": {},
   "outputs": [
    {
     "name": "stdout",
     "output_type": "stream",
     "text": [
      "Hi my name is Omkar Dada and I am a Male\n",
      "Omi\n",
      "Male\n"
     ]
    }
   ],
   "source": [
    "class Person:\n",
    "    def __init__(self, name, gender):\n",
    "        self.name = name\n",
    "        self.gender = gender\n",
    "     \n",
    "    \n",
    "# Outside class (Function) (function with object as input)\n",
    "def greet(person):\n",
    "    print(\"Hi my name is\", person.name, \"and I am a\", person.gender)\n",
    "    p1 = Person(\"Omi\", \"Male\")\n",
    "    return p1\n",
    "\n",
    "# object of person class\n",
    "p = Person(\"Omkar Dada\", \"Male\")\n",
    "# greet(p)\n",
    "\n",
    "x = greet(p)\n",
    "print(x.name)\n",
    "print(x.gender)"
   ]
  },
  {
   "cell_type": "markdown",
   "id": "691f0cf5",
   "metadata": {},
   "source": [
    "### Mutability of Objects ***\n",
    "\n",
    "* Objects: Mutable and Immutable \n",
    "* Objects of user defined classes in Python are mutable (any changes to objects due to some functions or anything else occurs at the same memory location where the object is created first)"
   ]
  },
  {
   "cell_type": "code",
   "execution_count": 21,
   "id": "010048ff",
   "metadata": {},
   "outputs": [
    {
     "name": "stdout",
     "output_type": "stream",
     "text": [
      "2139344050240\n",
      "2139344050240\n",
      "Omii\n",
      "Omii\n"
     ]
    }
   ],
   "source": [
    "class Person:\n",
    "    def __init__(self, name, gender):\n",
    "        self.name = name\n",
    "        self.gender = gender\n",
    "\n",
    "# Function outside the class\n",
    "def greet(person):\n",
    "    person.name = \"Omii\" # changing the value of attribute\n",
    "    return person\n",
    "        \n",
    "p = Person(\"Omkar\", \"Male\")\n",
    "print(id(p))\n",
    "p1 = greet(p)\n",
    "print(id(p1))\n",
    "\n",
    "print(p.name)\n",
    "print(p1.name)"
   ]
  },
  {
   "cell_type": "markdown",
   "id": "60ec73a5",
   "metadata": {},
   "source": [
    "### Encapsulation ***\n",
    "* For every attribute you create one getter and one setter method\n",
    "* The need for encabsulation is, you want to make the attributes/variable as private, but you also want to show these variables outside the class also, so this is acheived by `Encapsulation`.\n",
    "    * Getter Method: to show the value of private variable outside the class\n",
    "    * Setter Method: to make changes into value of private variables from outside the class\n",
    "* data + 2 methods(getter and setter) => packed in capsule = Encapsulation \n",
    "* **Need**: you make your data private (because changes to this leads to some serious issues) but at the same time you also want to show this variables outside the class also(if there are necessary changes want make) so in a protected way you can use encapsulation method(getter and setter methods).\n",
    "\n",
    "**Instance Variables**\n",
    "* Variables whose values are different for different objects of class.\n",
    "* Inside single variable you can store multiple values depending on objects.\n",
    "* Special type of variables whose values are depending on objects.\n",
    "\n",
    "**In Python nothing is truly Private, Because Python is Programming Language made for ADULTS.**\n",
    "\n",
    "**Example(for public, private): Jr. Developer who wants to crack govt. example**\n",
    "\n",
    "\n",
    "**Private Variables**\n",
    "* in memory it is stored as `_classname__variablename` \n",
    "* when you make a variable as private, you can change its value from outside of the class also. But the difference here is that \n",
    "after making changes to private variable outside class another copy(not copy actually) of that variable is created in the memory. (the changes are that are applied are completely on a new variable which is not present in the class)\n",
    "* for example: Consider following ATM class example \n",
    "    * the variable `__balance` is private, so thats why in memory it is stored as `_classname__balance`, so if you try to change it another copy of the same variable is created in the memory and no changes happen to the actual __private variable. \n",
    "* **You can change the value of private variable (_classname__variablename == changes)**\n",
    "\n",
    "**Best Practices**\n",
    "* always try to make the variables of class as private "
   ]
  },
  {
   "cell_type": "code",
   "execution_count": 22,
   "id": "1cec2bd9",
   "metadata": {},
   "outputs": [],
   "source": [
    "class ATM:\n",
    "    # Magic Method (Constructor)\n",
    "    def __init__(self):\n",
    "        print(id(self))\n",
    "        self.pin = \"\"\n",
    "        self.__balance = 0 # (__ (double underscore)to make attributes/methods private in Python)\n",
    "        # self.menu()\n",
    "    \n",
    "    # Encapsulation\n",
    "    # getter method (to show the private attribute to jr.developer(Example) i.e outside the class)\n",
    "    def get_balance(self):\n",
    "        return self.__balance\n",
    "    \n",
    "    # setter method (to edit the values(attributes))\n",
    "    def set_balance(self, new_value):\n",
    "        if type(new_value) == int:   # check\n",
    "            self.__balance = new_value\n",
    "        else:\n",
    "            print(\"Kya kar rahe he bhai, majak he kya?.\")\n",
    "    \n",
    "    def menu(self):\n",
    "        user_input = input(\"\"\"\n",
    "        How can I help you?\n",
    "        1. Press 1 to create pin.\n",
    "        2. Press 2 to change pin.\n",
    "        3. Press 3 to check balance.\n",
    "        4. Press 4 to withdraw money.\n",
    "        5. To exit.\n",
    "        \"\"\")\n",
    "        \n",
    "        if user_input == '1':\n",
    "            self.create_pin()\n",
    "        elif user_input == '2':\n",
    "            self.change_pin()\n",
    "        elif user_input == '3':\n",
    "            self.check_balance()\n",
    "        elif user_input == '4':\n",
    "            self.withdraw_money()\n",
    "        else:\n",
    "            exit()\n",
    "        \n",
    "    def create_pin(self):\n",
    "        user_pin = input(\"Enter your pin: \")\n",
    "        self.pin = user_pin\n",
    "        \n",
    "        user_balance = int(input(\"Enter your balance: \"))\n",
    "        self.__balance = user_balance\n",
    "        \n",
    "        print(\"PIN Created successfully.\")\n",
    "        \n",
    "        # self.menu()\n",
    "    \n",
    "    def change_pin(self):\n",
    "        old_pin = input(\"Enter your old pin: \")\n",
    "        if old_pin == self.pin:\n",
    "            new_pin = input(\"Enter you new pin: \")\n",
    "            self.pin = new_pin\n",
    "            print(\"New pin created successfully.\")\n",
    "        else:\n",
    "            print(\"Chukicha pin takla ahe. Juna PIN athwat nsl tr ghari ja.\")\n",
    "        self.menu()\n",
    "        \n",
    "    def check_balance(self):\n",
    "        user_pin = input(\"Enter your pin: \")\n",
    "        if user_pin == self.pin:\n",
    "            print(\"Your balance is: \", self.__balance)\n",
    "        else:\n",
    "            print(\"Chukicha pin takla ahe. Juna PIN athwat nsl tr ghari ja.\")\n",
    "            \n",
    "        self.menu()\n",
    "        \n",
    "    \n",
    "    def withdraw_money(self):\n",
    "        user_pin = input(\"Enter your pin: \")\n",
    "        if user_pin == self.pin:\n",
    "            amount = int(input(\"Enter the amount: \"))\n",
    "            if amount <= self.__balance:\n",
    "                self.__balance = self.__balance - amount\n",
    "                print(\"Please collect your money.\")\n",
    "                print(\"Remaining balance in your account is: \", self.__balance)\n",
    "                \n",
    "            else:\n",
    "                print(\"Kya re bhikmangya, kya dekh raha he. Ja jake tihari laga.\")\n",
    "        else:\n",
    "            print(\"Mamya pin chukicha a.\")\n",
    "            \n",
    "        self.menu()"
   ]
  },
  {
   "cell_type": "code",
   "execution_count": 23,
   "id": "cd70534b",
   "metadata": {},
   "outputs": [
    {
     "name": "stdout",
     "output_type": "stream",
     "text": [
      "2139344320160\n"
     ]
    }
   ],
   "source": [
    "atm = ATM()"
   ]
  },
  {
   "cell_type": "code",
   "execution_count": 24,
   "id": "b61acb0f",
   "metadata": {},
   "outputs": [
    {
     "data": {
      "text/plain": [
       "0"
      ]
     },
     "execution_count": 24,
     "metadata": {},
     "output_type": "execute_result"
    }
   ],
   "source": [
    "atm.get_balance()"
   ]
  },
  {
   "cell_type": "code",
   "execution_count": 25,
   "id": "feb812b3",
   "metadata": {},
   "outputs": [],
   "source": [
    "atm.set_balance(10000)"
   ]
  },
  {
   "cell_type": "code",
   "execution_count": 26,
   "id": "38881b2f",
   "metadata": {},
   "outputs": [
    {
     "data": {
      "text/plain": [
       "10000"
      ]
     },
     "execution_count": 26,
     "metadata": {},
     "output_type": "execute_result"
    }
   ],
   "source": [
    "atm.get_balance()"
   ]
  },
  {
   "cell_type": "code",
   "execution_count": 27,
   "id": "1bb6a851",
   "metadata": {},
   "outputs": [
    {
     "name": "stdout",
     "output_type": "stream",
     "text": [
      "Enter your pin: \n",
      "Enter your balance: \n"
     ]
    },
    {
     "ename": "ValueError",
     "evalue": "invalid literal for int() with base 10: ''",
     "output_type": "error",
     "traceback": [
      "\u001b[1;31m---------------------------------------------------------------------------\u001b[0m",
      "\u001b[1;31mValueError\u001b[0m                                Traceback (most recent call last)",
      "Input \u001b[1;32mIn [27]\u001b[0m, in \u001b[0;36m<cell line: 1>\u001b[1;34m()\u001b[0m\n\u001b[1;32m----> 1\u001b[0m \u001b[43matm\u001b[49m\u001b[38;5;241;43m.\u001b[39;49m\u001b[43mcreate_pin\u001b[49m\u001b[43m(\u001b[49m\u001b[43m)\u001b[49m\n",
      "Input \u001b[1;32mIn [22]\u001b[0m, in \u001b[0;36mATM.create_pin\u001b[1;34m(self)\u001b[0m\n\u001b[0;32m     43\u001b[0m user_pin \u001b[38;5;241m=\u001b[39m \u001b[38;5;28minput\u001b[39m(\u001b[38;5;124m\"\u001b[39m\u001b[38;5;124mEnter your pin: \u001b[39m\u001b[38;5;124m\"\u001b[39m)\n\u001b[0;32m     44\u001b[0m \u001b[38;5;28mself\u001b[39m\u001b[38;5;241m.\u001b[39mpin \u001b[38;5;241m=\u001b[39m user_pin\n\u001b[1;32m---> 46\u001b[0m user_balance \u001b[38;5;241m=\u001b[39m \u001b[38;5;28;43mint\u001b[39;49m\u001b[43m(\u001b[49m\u001b[38;5;28;43minput\u001b[39;49m\u001b[43m(\u001b[49m\u001b[38;5;124;43m\"\u001b[39;49m\u001b[38;5;124;43mEnter your balance: \u001b[39;49m\u001b[38;5;124;43m\"\u001b[39;49m\u001b[43m)\u001b[49m\u001b[43m)\u001b[49m\n\u001b[0;32m     47\u001b[0m \u001b[38;5;28mself\u001b[39m\u001b[38;5;241m.\u001b[39m__balance \u001b[38;5;241m=\u001b[39m user_balance\n\u001b[0;32m     49\u001b[0m \u001b[38;5;28mprint\u001b[39m(\u001b[38;5;124m\"\u001b[39m\u001b[38;5;124mPIN Created successfully.\u001b[39m\u001b[38;5;124m\"\u001b[39m)\n",
      "\u001b[1;31mValueError\u001b[0m: invalid literal for int() with base 10: ''"
     ]
    }
   ],
   "source": [
    "atm.create_pin()"
   ]
  },
  {
   "cell_type": "code",
   "execution_count": null,
   "id": "d27783ac",
   "metadata": {},
   "outputs": [],
   "source": [
    "atm.get_balance()"
   ]
  },
  {
   "cell_type": "code",
   "execution_count": null,
   "id": "d72423c1",
   "metadata": {},
   "outputs": [],
   "source": [
    "atm.set_balance(100)"
   ]
  },
  {
   "cell_type": "code",
   "execution_count": null,
   "id": "370a268d",
   "metadata": {},
   "outputs": [],
   "source": [
    "atm.get_balance()"
   ]
  },
  {
   "cell_type": "markdown",
   "id": "a1d88547",
   "metadata": {},
   "source": [
    "### Collection Of Objects"
   ]
  },
  {
   "cell_type": "code",
   "execution_count": 28,
   "id": "4e578ff4",
   "metadata": {},
   "outputs": [
    {
     "name": "stdout",
     "output_type": "stream",
     "text": [
      "Spoider\n",
      "Omkar\n",
      "Optimus\n"
     ]
    }
   ],
   "source": [
    "# List of objects\n",
    "class Person:\n",
    "    def __init__(self, name, gender):\n",
    "        self.name = name\n",
    "        self.gender = gender\n",
    "        \n",
    "\n",
    "p1 = Person(\"Omkar\", \"Male\")\n",
    "p2 = Person(\"Optimus\", \"Male\")\n",
    "p3 = Person(\"Spoider\", \"Male\")\n",
    "\n",
    "L = [p1, p2, p3]\n",
    "# print(L)\n",
    "s = set([p1, p2, p3])\n",
    "# print(s)\n",
    "for i in s:\n",
    "    print(i.name)"
   ]
  },
  {
   "cell_type": "code",
   "execution_count": 29,
   "id": "2d94674c",
   "metadata": {},
   "outputs": [
    {
     "name": "stdout",
     "output_type": "stream",
     "text": [
      "Omkar\n",
      "Optimus\n",
      "Spoider\n"
     ]
    }
   ],
   "source": [
    "# Dictionary of Objects\n",
    "class Person:\n",
    "    def __init__(self, name, gender):\n",
    "        self.name = name\n",
    "        self.gender = gender\n",
    "        \n",
    "\n",
    "p1 = Person(\"Omkar\", \"Male\")\n",
    "p2 = Person(\"Optimus\", \"Male\")\n",
    "p3 = Person(\"Spoider\", \"Male\")\n",
    "\n",
    "d = {'p1':p1, 'p2':p2, 'p3':p3}\n",
    "for i in d:\n",
    "    print(d[i].name)"
   ]
  },
  {
   "cell_type": "markdown",
   "id": "b827b481",
   "metadata": {},
   "source": [
    "### Static Variables(vs instance variables)\n",
    "* **Instance variable**: variable of object (value is different for different objects) \n",
    "   * (self.variable_name), more specifically (objectname.variable_name)\n",
    "   * defines inside the constructor\n",
    "* **Static variable**: variable of class (value is same for each object)\n",
    "   * Defines/Declare inside the class but outside all the methods\n",
    "   * access using (class_name.variable_name)\n",
    "   \n",
    "* **Static Methods:**  for static methods we don't need to pass an object as parameter, we can make changes by in static variables by using class_name.__variable name\n",
    "\n",
    "**Name Mangling:** When you make a variable/method as private, then the name for that variable/method gets stored in the memory with the name of `_classname.__variablename`"
   ]
  },
  {
   "cell_type": "code",
   "execution_count": 30,
   "id": "f6f8d886",
   "metadata": {},
   "outputs": [],
   "source": [
    "# each customer has unique id, so you are maintaining counter for that\n",
    "\n",
    "class ATM:\n",
    "    # counter = 1  # (bhoot parat ala a, he can change the value so to avoid this situation we can make static variable as private also)\n",
    "    __counter = 1  # static variable\n",
    "    # Magic Method (Constructor)\n",
    "    def __init__(self):\n",
    "        print(id(self))\n",
    "        self.pin = \"\"\n",
    "        self.__balance = 0 # (__ to make attributes/methods private in Python)\n",
    "        self.cid = ATM.__counter  \n",
    "        ATM.__counter += 1      # counter\n",
    "        # self.menu()\n",
    "    \n",
    "    # Encapsulation\n",
    "    \n",
    "    # getter method for static variables\n",
    "    # utility functions -> methods that don't need object\n",
    "    # Decorator: Mechanism to change the behaviour of a function \n",
    "    # method of class not object\n",
    "    # access static methods without creating an object of class, we can access it by using classname directly\n",
    "    @staticmethod # (you don't need any object to access these methods you can directly access them using class name)\n",
    "    def get_cid():\n",
    "        return ATM.__counter\n",
    "    \n",
    "    # setter method for static variables\n",
    "    def set_cid(new_value):\n",
    "        if type(new_value) == int:\n",
    "            ATM.__counter = new_value\n",
    "        else:\n",
    "            print(\"Kya kar re bhai, Majak he kya?\")\n",
    "            \n",
    "            \n",
    "    # getter method (to show the private attribute to jr.developer(Example))\n",
    "    def get_balance(self):\n",
    "        return self.__balance\n",
    "    \n",
    "    # setter method (to edit the values(attributes), instance variables)\n",
    "    def set_balance(self, new_value):\n",
    "        if type(new_value) == int:\n",
    "            self.__balance = new_value\n",
    "        else:\n",
    "            print(\"G88 mar dunga.\")\n",
    "    \n",
    "    def menu(self):\n",
    "        user_input = input(\"\"\"\n",
    "        How can I help you?\n",
    "        1. Press 1 to create pin.\n",
    "        2. Press 2 to change pin.\n",
    "        3. Press 3 to check balance.\n",
    "        4. Press 4 to withdraw money.\n",
    "        5. To exit.\n",
    "        \"\"\")\n",
    "        \n",
    "        if user_input == '1':\n",
    "            self.create_pin()\n",
    "        elif user_input == '2':\n",
    "            self.change_pin()\n",
    "        elif user_input == '3':\n",
    "            self.check_balance()\n",
    "        elif user_input == '4':\n",
    "            self.withdraw_money()\n",
    "        else:\n",
    "            exit()\n",
    "        \n",
    "    def create_pin(self):\n",
    "        user_pin = input(\"Enter your pin: \")\n",
    "        self.pin = user_pin\n",
    "        \n",
    "        user_balance = int(input(\"Enter your balance: \"))\n",
    "        self.__balance = user_balance\n",
    "        \n",
    "        print(\"PIN Created successfully.\")\n",
    "        \n",
    "#         self.menu()\n",
    "    \n",
    "    def change_pin(self):\n",
    "        old_pin = input(\"Enter your old pin: \")\n",
    "        if old_pin == self.pin:\n",
    "            new_pin = input(\"Enter you new pin: \")\n",
    "            self.pin = new_pin\n",
    "            print(\"New pin created successfully.\")\n",
    "        else:\n",
    "            print(\"Chukicha pin takla ahe. Juna PIN athwat nsl tr ghari ja.\")\n",
    "        self.menu()\n",
    "        \n",
    "    def check_balance(self):\n",
    "        user_pin = input(\"Enter your pin: \")\n",
    "        if user_pin == self.pin:\n",
    "            print(\"Your balance is: \", self.__balance)\n",
    "        else:\n",
    "            print(\"Chukicha pin takla ahe. Juna PIN athwat nsl tr ghari ja.\")\n",
    "            \n",
    "        self.menu()\n",
    "        \n",
    "    \n",
    "    def withdraw_money(self):\n",
    "        user_pin = input(\"Enter your pin: \")\n",
    "        if user_pin == self.pin:\n",
    "            amount = int(input(\"Enter the amount: \"))\n",
    "            if amount <= self.__balance:\n",
    "                self.__balance = self.__balance - amount\n",
    "                print(\"Please collect your money.\")\n",
    "                print(\"Remaining balance in your account is: \", self.__balance)\n",
    "                \n",
    "            else:\n",
    "                print(\"Kya re bhikmangya, kya dekh raha he. Ja jake tihari laga.\")\n",
    "        else:\n",
    "            print(\"Mamya pin chukicha a.\")"
   ]
  },
  {
   "cell_type": "code",
   "execution_count": 31,
   "id": "11befee2",
   "metadata": {},
   "outputs": [
    {
     "name": "stdout",
     "output_type": "stream",
     "text": [
      "2139361939120\n"
     ]
    }
   ],
   "source": [
    "c1 = ATM()"
   ]
  },
  {
   "cell_type": "code",
   "execution_count": 32,
   "id": "4503cb68",
   "metadata": {},
   "outputs": [
    {
     "name": "stdout",
     "output_type": "stream",
     "text": [
      "2139361951648\n"
     ]
    }
   ],
   "source": [
    "c2 = ATM()"
   ]
  },
  {
   "cell_type": "code",
   "execution_count": 33,
   "id": "65941e3d",
   "metadata": {},
   "outputs": [
    {
     "name": "stdout",
     "output_type": "stream",
     "text": [
      "2139361938496\n"
     ]
    }
   ],
   "source": [
    "c3 = ATM()"
   ]
  },
  {
   "cell_type": "code",
   "execution_count": 34,
   "id": "746680e2",
   "metadata": {},
   "outputs": [
    {
     "data": {
      "text/plain": [
       "1"
      ]
     },
     "execution_count": 34,
     "metadata": {},
     "output_type": "execute_result"
    }
   ],
   "source": [
    "c1.cid"
   ]
  },
  {
   "cell_type": "code",
   "execution_count": 35,
   "id": "a5d03d15",
   "metadata": {},
   "outputs": [
    {
     "data": {
      "text/plain": [
       "2"
      ]
     },
     "execution_count": 35,
     "metadata": {},
     "output_type": "execute_result"
    }
   ],
   "source": [
    "c2.cid"
   ]
  },
  {
   "cell_type": "code",
   "execution_count": 36,
   "id": "30ee456d",
   "metadata": {},
   "outputs": [
    {
     "data": {
      "text/plain": [
       "3"
      ]
     },
     "execution_count": 36,
     "metadata": {},
     "output_type": "execute_result"
    }
   ],
   "source": [
    "c3.cid"
   ]
  },
  {
   "cell_type": "code",
   "execution_count": 37,
   "id": "d4609284",
   "metadata": {},
   "outputs": [
    {
     "data": {
      "text/plain": [
       "4"
      ]
     },
     "execution_count": 37,
     "metadata": {},
     "output_type": "execute_result"
    }
   ],
   "source": [
    "# accessing methods using class name => static methods (how to know this is static method? - using Decorator)\n",
    "ATM.get_cid()"
   ]
  },
  {
   "cell_type": "code",
   "execution_count": 38,
   "id": "4f078b70",
   "metadata": {},
   "outputs": [
    {
     "data": {
      "text/plain": [
       "['_ATM__balance',\n",
       " '_ATM__counter',\n",
       " '__class__',\n",
       " '__delattr__',\n",
       " '__dict__',\n",
       " '__dir__',\n",
       " '__doc__',\n",
       " '__eq__',\n",
       " '__format__',\n",
       " '__ge__',\n",
       " '__getattribute__',\n",
       " '__gt__',\n",
       " '__hash__',\n",
       " '__init__',\n",
       " '__init_subclass__',\n",
       " '__le__',\n",
       " '__lt__',\n",
       " '__module__',\n",
       " '__ne__',\n",
       " '__new__',\n",
       " '__reduce__',\n",
       " '__reduce_ex__',\n",
       " '__repr__',\n",
       " '__setattr__',\n",
       " '__sizeof__',\n",
       " '__str__',\n",
       " '__subclasshook__',\n",
       " '__weakref__',\n",
       " 'change_pin',\n",
       " 'check_balance',\n",
       " 'cid',\n",
       " 'create_pin',\n",
       " 'get_balance',\n",
       " 'get_cid',\n",
       " 'menu',\n",
       " 'pin',\n",
       " 'set_balance',\n",
       " 'set_cid',\n",
       " 'withdraw_money']"
      ]
     },
     "execution_count": 38,
     "metadata": {},
     "output_type": "execute_result"
    }
   ],
   "source": [
    "dir(c1)"
   ]
  },
  {
   "cell_type": "code",
   "execution_count": 39,
   "id": "ac5606e1",
   "metadata": {},
   "outputs": [
    {
     "data": {
      "text/plain": [
       "4"
      ]
     },
     "execution_count": 39,
     "metadata": {},
     "output_type": "execute_result"
    }
   ],
   "source": [
    "ATM.get_cid()"
   ]
  },
  {
   "cell_type": "markdown",
   "id": "2545a2bf",
   "metadata": {},
   "source": [
    "## Class Relationships\n",
    "\n",
    "### a. Aggregation (has a relationship)\n",
    "* when two classes have `has a` relation\n",
    "* when you are creating main class object, you are passing an object of another class into it as a input (aggregation on technical level) \n",
    "* one class owns the other class\n",
    "    * Ex. restaurant(class) owns menu (class)\n",
    "* If the new class must have the original class. Use aggregation.\n",
    "    \n",
    "\n",
    "* Generally you make all the data attributes private (common programming practice in OOP)\n",
    "\n",
    "* Cannot access private attributes while performing aggregation. (the class that owns the another class won't able to access private variable of that class)\n",
    "    * To access the private attributes use getter and setter methods(encapsulation)."
   ]
  },
  {
   "cell_type": "code",
   "execution_count": 40,
   "id": "ffb8c3c2",
   "metadata": {},
   "outputs": [
    {
     "name": "stdout",
     "output_type": "stream",
     "text": [
      "Sangamner 422605 Maharashtra\n"
     ]
    }
   ],
   "source": [
    "# Simple Aggrgation \n",
    "class Customer:\n",
    "    def __init__(self, name, gender, address):\n",
    "        self.name = name \n",
    "        self.gender = gender \n",
    "        self.address = address \n",
    "        \n",
    "    def print_address(self):\n",
    "        print(self.address.city, self.address.pin, self.address.state)\n",
    "        \n",
    "class Address:\n",
    "    def __init__(self, city, pin, state):\n",
    "        self.city = city \n",
    "        self.pin = pin \n",
    "        self.state = state \n",
    "        \n",
    "add1 = Address(\"Sangamner\", 422605, \"Maharashtra\")\n",
    "c = Customer(\"Omkar\", \"Male\", add1)\n",
    "\n",
    "c.print_address()"
   ]
  },
  {
   "cell_type": "code",
   "execution_count": 41,
   "id": "22be0b07",
   "metadata": {},
   "outputs": [
    {
     "name": "stdout",
     "output_type": "stream",
     "text": [
      "Sangamner 422605 Maharashtra\n",
      "Ladakh 123456 Kashmir\n"
     ]
    }
   ],
   "source": [
    "# Example\n",
    "class Customer:\n",
    "    def __init__(self, name, gender, address):\n",
    "        self.name = name\n",
    "        self.gender = gender\n",
    "        self.address = address\n",
    "    \n",
    "    def show_address(self):\n",
    "        print(self.address.get_city(), self.address.pin, self.address.state)\n",
    "    \n",
    "    def edit_profile(self, new_name, new_city, new_pin, new_state):\n",
    "        self.name = new_name\n",
    "        self.address.edit_address(new_city, new_pin, new_state)\n",
    "        \n",
    "class Address:\n",
    "    def __init__(self, city, pin, state):\n",
    "        # self.city = city\n",
    "        self.__city = city  # private attribute\n",
    "        self.pin = pin\n",
    "        self.state = state\n",
    "        \n",
    "    # to access private attribute (getter method)\n",
    "    def get_city(self):\n",
    "        return self.__city\n",
    "    \n",
    "    def edit_address(self, new_city, new_pin, new_state):\n",
    "        self.__city = new_city\n",
    "        self.pin = new_pin\n",
    "        self.state = new_state\n",
    "        \n",
    "add1 = Address(\"Sangamner\", 422605, \"Maharashtra\")\n",
    "cust1 = Customer(\"Omkar\", \"M\", add1)\n",
    "\n",
    "cust1.show_address()\n",
    "\n",
    "cust1.edit_profile(\"Omi\", \"Ladakh\", 123456, \"Kashmir\")\n",
    "cust1.show_address() "
   ]
  },
  {
   "cell_type": "markdown",
   "id": "20c1fb2c",
   "metadata": {},
   "source": [
    "#### Aggregation Diagram\n",
    "*  \"-\" : represents private variables\n",
    "*  \"+\" : represents public variables\n",
    "* diamond symbol => Aggregation"
   ]
  },
  {
   "cell_type": "markdown",
   "id": "99c498e6",
   "metadata": {},
   "source": [
    "### b. Inheritance (simply, jo bhi baap ka he wo apka he😁) ****\n",
    "* real world idea\n",
    "* If The new class is more or less as the original class. Use inheritance.\n",
    "* nature also follows this concept (you inherit the traits of your parents)\n",
    "\n",
    "**Advantages**\n",
    "* Code reusability\n",
    "\n",
    "**DRY: Don't repeat yourself (Ek bar likho bar bar use karo)** \n",
    "\n",
    "* class diagram: triangle shape between two classes => Inheritance\n",
    "* arrow head is towards parent class"
   ]
  },
  {
   "cell_type": "code",
   "execution_count": 42,
   "id": "499deed1",
   "metadata": {},
   "outputs": [
    {
     "name": "stdout",
     "output_type": "stream",
     "text": [
      "Omkar Male\n",
      "Login Successful.\n"
     ]
    }
   ],
   "source": [
    "# Example\n",
    "# Parent/Base/Super class\n",
    "class User:\n",
    "    def __init__(self):\n",
    "        # non-private attributes\n",
    "        self.name = \"Omkar\" \n",
    "        self.gender = \"Male\"\n",
    "        \n",
    "    def login(self):\n",
    "        print(\"Login Successful.\")\n",
    "        \n",
    "# Child/Derived/Extended class\n",
    "class Student(User): # class childclass_name(parentclass_name)\n",
    "    # def __init__(self):  # Method Overriding \n",
    "    #     self.roll_no = 100\n",
    "        \n",
    "    def enroll(self):\n",
    "        print(\"Enroll into the course.\")\n",
    "\n",
    "u = User()\n",
    "s = Student()\n",
    "# print(u.name)\n",
    "print(s.name, s.gender)\n",
    "s.login()"
   ]
  },
  {
   "cell_type": "markdown",
   "id": "5fb021bf",
   "metadata": {},
   "source": [
    "#### What get's inherited?\n",
    "* Constructor\n",
    "    * if child class don't have constructor, then the parent class constructor is executed.\n",
    "    * \n",
    "    \n",
    "* Non Private Attributes \n",
    "* Non Private Methods "
   ]
  },
  {
   "cell_type": "code",
   "execution_count": 43,
   "id": "f6c5fd15",
   "metadata": {},
   "outputs": [
    {
     "name": "stdout",
     "output_type": "stream",
     "text": [
      "Inside parent class constructor(Phone)\n"
     ]
    }
   ],
   "source": [
    "# child class don't have constructor\n",
    "\n",
    "# Parent class\n",
    "class Phone:\n",
    "    def __init__(self, price, brand, camera):\n",
    "        print(\"Inside parent class constructor(Phone)\")\n",
    "        self.price = price\n",
    "        self.brand = brand\n",
    "        self.camera = camera\n",
    "    \n",
    "    def buy():\n",
    "        print(\"Buying a phone.\")\n",
    "        \n",
    "# Child class\n",
    "class SmartPhone(Phone):\n",
    "    pass\n",
    "\n",
    "s = SmartPhone(59000, \"Apple\", 42)"
   ]
  },
  {
   "cell_type": "code",
   "execution_count": 44,
   "id": "7d2393fa",
   "metadata": {},
   "outputs": [
    {
     "name": "stdout",
     "output_type": "stream",
     "text": [
      "Inside child class constructor (SmartPhone)\n",
      "Android\n",
      "8\n"
     ]
    },
    {
     "ename": "AttributeError",
     "evalue": "'SmartPhone' object has no attribute 'price'",
     "output_type": "error",
     "traceback": [
      "\u001b[1;31m---------------------------------------------------------------------------\u001b[0m",
      "\u001b[1;31mAttributeError\u001b[0m                            Traceback (most recent call last)",
      "Input \u001b[1;32mIn [44]\u001b[0m, in \u001b[0;36m<cell line: 24>\u001b[1;34m()\u001b[0m\n\u001b[0;32m     22\u001b[0m \u001b[38;5;28mprint\u001b[39m(s\u001b[38;5;241m.\u001b[39mos)\n\u001b[0;32m     23\u001b[0m \u001b[38;5;28mprint\u001b[39m(s\u001b[38;5;241m.\u001b[39mram)\n\u001b[1;32m---> 24\u001b[0m \u001b[38;5;28mprint\u001b[39m(\u001b[43ms\u001b[49m\u001b[38;5;241;43m.\u001b[39;49m\u001b[43mprice\u001b[49m)\n",
      "\u001b[1;31mAttributeError\u001b[0m: 'SmartPhone' object has no attribute 'price'"
     ]
    }
   ],
   "source": [
    "# child class have constructor\n",
    "\n",
    "# Parent class\n",
    "class Phone:\n",
    "    def __init__(self, price, brand, camera):\n",
    "        print(\"Inside parent class constructor (Phone)\")\n",
    "        self.price = price\n",
    "        self.brand = brand\n",
    "        self.camera = camera\n",
    "    \n",
    "    def buy():\n",
    "        print(\"Buying a phone.\")\n",
    "        \n",
    "# Child class\n",
    "class SmartPhone(Phone):\n",
    "    def __init__(self, os, ram):\n",
    "        print(\"Inside child class constructor (SmartPhone)\")\n",
    "        self.os = os\n",
    "        self.ram = ram\n",
    "        \n",
    "s = SmartPhone(\"Android\", 8)\n",
    "print(s.os)\n",
    "print(s.ram)\n",
    "print(s.price)  # ** (price not in Smartphone class (child class) i.e child class has its own constructor so that's \n",
    "# why the parents class constructor is not called and hence the attributes of the parent class are not intiallized therfore got an error)"
   ]
  },
  {
   "cell_type": "code",
   "execution_count": 45,
   "id": "7934c368",
   "metadata": {},
   "outputs": [
    {
     "name": "stdout",
     "output_type": "stream",
     "text": [
      "Inside parent class constructor (Phone)\n",
      "Apple\n",
      "12300\n"
     ]
    }
   ],
   "source": [
    "# child class(child class object) can't access private members of the parent class \n",
    "\n",
    "class Phone:\n",
    "    def __init__(self, price, brand, camera):\n",
    "        print(\"Inside parent class constructor (Phone)\")\n",
    "        self.__price = price\n",
    "        self.brand = brand\n",
    "        self.camera = camera\n",
    "    \n",
    "    # acts as getter method (gives the private data members)\n",
    "    def show(self):\n",
    "        print(self.__price)\n",
    "        \n",
    "    # Private method\n",
    "    # def __show(self):\n",
    "    #     print(self.__price)\n",
    "        \n",
    "# Child class\n",
    "class SmartPhone(Phone):\n",
    "    def check(self):\n",
    "        print(self.__price)\n",
    "        \n",
    "s = SmartPhone(12300, \"Apple\", 89)\n",
    "# print(s.check()) #  accesing private member (not allowed)\n",
    "print(s.brand) # public\n",
    "s.show()\n",
    "# s.show()"
   ]
  },
  {
   "cell_type": "code",
   "execution_count": 46,
   "id": "cb932414",
   "metadata": {},
   "outputs": [
    {
     "name": "stdout",
     "output_type": "stream",
     "text": [
      "Child: Val:  100\n"
     ]
    }
   ],
   "source": [
    "# sagla flow koncha constructor call hoil ya wr ahe\n",
    "\n",
    "class Parent:\n",
    "    def __init__(self, val, num):\n",
    "        self.__num = num\n",
    "        \n",
    "    def get_num(self):\n",
    "        return self.__num\n",
    "    \n",
    "class Child(Parent):\n",
    "    def __init__(self, val, num):\n",
    "        self.__val = val\n",
    "        # self.__num = num\n",
    "        \n",
    "    def get_val(self):\n",
    "        return self.__val\n",
    "    \n",
    "son = Child(100, 10)\n",
    "# print(\"Parent: Num: \", son.get_num()) # Error\n",
    "print(\"Child: Val: \", son.get_val())\n"
   ]
  },
  {
   "cell_type": "code",
   "execution_count": 47,
   "id": "8fbd36e4",
   "metadata": {},
   "outputs": [
    {
     "name": "stdout",
     "output_type": "stream",
     "text": [
      "Class A:  100\n"
     ]
    }
   ],
   "source": [
    "class A:\n",
    "    def __init__(self):\n",
    "        self.val = 100\n",
    "        \n",
    "    def display1(self, val):\n",
    "        # self.val = val\n",
    "        print(\"Class A: \", self.val)\n",
    "        \n",
    "class B(A):\n",
    "    def display2(self, val2):\n",
    "        print(\"Class B: \", self.val2)\n",
    "        \n",
    "b = B()\n",
    "b.display1(200)"
   ]
  },
  {
   "cell_type": "markdown",
   "id": "17b1b647",
   "metadata": {},
   "source": [
    "#### Method Overriding ***\n",
    "if there is a method with same name in parent class and the child class, then the child class method is called everytime. "
   ]
  },
  {
   "cell_type": "code",
   "execution_count": 48,
   "id": "f181fc54",
   "metadata": {},
   "outputs": [
    {
     "name": "stdout",
     "output_type": "stream",
     "text": [
      "Inside phone constructor.\n",
      "Buying a smartphone.\n"
     ]
    }
   ],
   "source": [
    "class Phone:\n",
    "    def __init__(self, price, brand, camera):\n",
    "        print(\"Inside phone constructor.\")\n",
    "        self.price = price\n",
    "        self.brand = brand\n",
    "        self.camera = camera\n",
    "        \n",
    "    def buy(self):\n",
    "        print(\"Buying a phone.\")\n",
    "        \n",
    "class Smartphone(Phone):\n",
    "    def buy(self):\n",
    "        print(\"Buying a smartphone.\")\n",
    "        \n",
    "s = Smartphone(89820, \"Apple\", 12)\n",
    "s.buy()"
   ]
  },
  {
   "cell_type": "markdown",
   "id": "26b999ac",
   "metadata": {},
   "source": [
    "#### super() keyword **\n",
    "* You can call parent class methods using super keyword\n",
    "* way to access the parent class methods, constructor\n",
    "* cannot access the variables/attributes of parent class using super keyword, can access only methods\n",
    "* always use inside the class (more specifically inside the child class)"
   ]
  },
  {
   "cell_type": "code",
   "execution_count": 49,
   "id": "3405695a",
   "metadata": {},
   "outputs": [
    {
     "name": "stdout",
     "output_type": "stream",
     "text": [
      "Inside parent constructor.\n",
      "Buying a smartphone.\n",
      "Buying a phone.\n"
     ]
    }
   ],
   "source": [
    "class Phone:\n",
    "    def __init__(self, price, brand, camera):\n",
    "        print(\"Inside parent constructor.\")\n",
    "        self.__price = price\n",
    "        self.brand = brand\n",
    "        self.camera = camera\n",
    "        \n",
    "    def buy(self):\n",
    "        print(\"Buying a phone.\")\n",
    "        \n",
    "class Smartphone(Phone):\n",
    "    def buy(self):\n",
    "        print(\"Buying a smartphone.\")\n",
    "        \n",
    "        # Syntax to buy parent class method\n",
    "        super().buy()\n",
    "        \n",
    "s = Smartphone(41121, \"Apple\", 78)\n",
    "s.buy()"
   ]
  },
  {
   "cell_type": "code",
   "execution_count": 50,
   "id": "41ef8900",
   "metadata": {},
   "outputs": [
    {
     "name": "stdout",
     "output_type": "stream",
     "text": [
      "Inside child class constructor (SmartPhone)\n",
      "Inside parent class constructor (Phone)\n",
      "Inside child class constructor (SmartPhone)\n"
     ]
    },
    {
     "data": {
      "text/plain": [
       "8"
      ]
     },
     "execution_count": 50,
     "metadata": {},
     "output_type": "execute_result"
    }
   ],
   "source": [
    "# Parent class\n",
    "class Phone:\n",
    "    def __init__(self, price, brand, camera):\n",
    "        print(\"Inside parent class constructor (Phone)\")\n",
    "        self.price = price\n",
    "        self.brand = brand\n",
    "        self.camera = camera\n",
    "    \n",
    "    def buy():\n",
    "        print(\"Buying a phone.\")\n",
    "        \n",
    "# Child class\n",
    "class SmartPhone(Phone):\n",
    "    def __init__(self, price, brand, camera, os, ram):\n",
    "        print(\"Inside child class constructor (SmartPhone)\")\n",
    "        super().__init__(price, brand, camera)  # super keyword (calling constructor of parent)\n",
    "        print(\"Inside child class constructor (SmartPhone)\")\n",
    "        self.os = os\n",
    "        self.ram = ram\n",
    "        \n",
    "s = SmartPhone(23000, \"Apple\", 8, \"IOS\", 12)\n",
    "s.camera"
   ]
  },
  {
   "cell_type": "markdown",
   "id": "f6cdc818",
   "metadata": {},
   "source": [
    "### Types of Inheritance\n",
    "* **a. Single Inheritance**\n",
    "    * one parent, one child (child inhertis from parent)\n",
    "* **b. Multilevel Inheritance**:\n",
    "    * grandparent <= parent <= child\n",
    "* **c. Hierarchical Inheritance**:\n",
    "    * one parent, multiple children\n",
    "* **d. Multiple Inheritance**:\n",
    "    * multiple parents, single child\n",
    "* **e. Hybrid**:\n",
    "    * combination of multiple, hier, single"
   ]
  },
  {
   "cell_type": "code",
   "execution_count": 49,
   "id": "dfe94d59",
   "metadata": {},
   "outputs": [
    {
     "name": "stdout",
     "output_type": "stream",
     "text": [
      "Inside phone constructor.\n",
      "Buying a phone.\n"
     ]
    }
   ],
   "source": [
    "# Single Inheritance\n",
    "class Phone:\n",
    "    def __init__(self, price, brand, camera):\n",
    "        print(\"Inside phone constructor.\")\n",
    "        self.price = price\n",
    "        self.brand = brand\n",
    "        self.camera = camera\n",
    "        \n",
    "    def buy(self):\n",
    "        print(\"Buying a phone.\")\n",
    "        \n",
    "class Smartphone(Phone):\n",
    "    pass\n",
    "        \n",
    "s = Smartphone(89820, \"Apple\", 12)\n",
    "s.buy()"
   ]
  },
  {
   "cell_type": "code",
   "execution_count": 50,
   "id": "d2f7b329",
   "metadata": {},
   "outputs": [
    {
     "name": "stdout",
     "output_type": "stream",
     "text": [
      "Inside phone constructor.\n",
      "Buying a phone.\n",
      "Product review.\n"
     ]
    }
   ],
   "source": [
    "# Multilevel Inheritance\n",
    "class Product:\n",
    "    def review(self):\n",
    "        print(\"Product review.\")\n",
    "\n",
    "class Phone(Product):\n",
    "    def __init__(self, price, brand, camera):\n",
    "        print(\"Inside phone constructor.\")\n",
    "        self.__price = price\n",
    "        self.brand = brand\n",
    "        self.camera = camera\n",
    "        \n",
    "    def buy(self):\n",
    "        print(\"Buying a phone.\")\n",
    "        \n",
    "class Smartphone(Phone):\n",
    "    pass\n",
    "        \n",
    "s = Smartphone(89820, \"Apple\", 12)\n",
    "s.buy()\n",
    "s.review()"
   ]
  },
  {
   "cell_type": "code",
   "execution_count": 51,
   "id": "54323bbc",
   "metadata": {},
   "outputs": [
    {
     "name": "stdout",
     "output_type": "stream",
     "text": [
      "Inside phone constructor.\n",
      "Inside phone constructor.\n",
      "Buying a phone.\n",
      "Buying a phone.\n"
     ]
    }
   ],
   "source": [
    "# Hierarchical Inheritance\n",
    "class Phone:\n",
    "    def __init__(self, price, brand, camera):\n",
    "        print(\"Inside phone constructor.\")\n",
    "        self.price = price\n",
    "        self.brand = brand\n",
    "        self.camera = camera\n",
    "        \n",
    "    def buy(self):\n",
    "        print(\"Buying a phone.\")\n",
    "        \n",
    "class Smartphone(Phone):\n",
    "    pass\n",
    "        \n",
    "def FeaturePhone(Phone):\n",
    "    pass\n",
    "        \n",
    "s = Smartphone(89820, \"Apple\", 12)\n",
    "f = Smartphone(89820, \"Blueberry\", 12)\n",
    "s.buy()\n",
    "f.buy()"
   ]
  },
  {
   "cell_type": "code",
   "execution_count": 53,
   "id": "82f470b2",
   "metadata": {},
   "outputs": [
    {
     "name": "stdout",
     "output_type": "stream",
     "text": [
      "Buying product.\n"
     ]
    }
   ],
   "source": [
    "# Mulptiple Inheritance\n",
    "class Phone:\n",
    "    def __init__(self, price, brand, camera):\n",
    "        self.__price = price\n",
    "        self.brand = brand\n",
    "        self.camera = camera\n",
    "        \n",
    "    def buy(self):\n",
    "        print(\"Buying a phone.\")\n",
    "        \n",
    "class Product:\n",
    "#     def review(self):\n",
    "#         print(\"Customer review\")\n",
    "\n",
    "    def buy(self):\n",
    "        print(\"Buying product.\")\n",
    "\n",
    "# Method resolution order(MRO) => changing the order of parent class while inherting (method of first parent will execute)\n",
    "class Smartphone(Product, Phone):\n",
    "    pass\n",
    "\n",
    "\n",
    "s = Smartphone(20000, \"Apple\", 12)\n",
    "s.buy()"
   ]
  },
  {
   "cell_type": "code",
   "execution_count": null,
   "id": "3302d2a2",
   "metadata": {},
   "outputs": [],
   "source": [
    "# Practice Que\n",
    "class A:\n",
    "    def m1(self):\n",
    "        return 20\n",
    "    \n",
    "class B(A):\n",
    "    def m1(self):\n",
    "        val.super().m1() + 30\n",
    "        return val\n",
    "    \n",
    "class C(B):\n",
    "    def m1(self):  # infinite loop (throws error)\n",
    "        val = self.m1() + 20\n",
    "        return val\n",
    "    \n",
    "obj = C()\n",
    "print(obj.m1()) "
   ]
  },
  {
   "cell_type": "markdown",
   "id": "f9337c5d",
   "metadata": {},
   "source": [
    "### Polymorphism\n",
    "* Having multiple faces/forms\n",
    "* same thing behaves differently in different situations \n",
    "\n",
    "\n",
    "* **Method Overriding**\n",
    "* **Method Overloading**\n",
    "* **Operator Overloading**"
   ]
  },
  {
   "cell_type": "markdown",
   "id": "bb8ac682",
   "metadata": {},
   "source": [
    "#### Method Overloading \n",
    "* Inside a single class there are multiple methods with same name but their behaviour is different depending on the input\n",
    "* Inside your class you have multiple functions/methods with same name but have different output\n",
    "* Your code looks more cleaner, increases readability\n",
    "* In Python method overloading will not work, but you can use it using default arguments"
   ]
  },
  {
   "cell_type": "code",
   "execution_count": 5,
   "id": "15332a79",
   "metadata": {
    "scrolled": true
   },
   "outputs": [
    {
     "name": "stdout",
     "output_type": "stream",
     "text": [
      "12.56\n",
      "8\n"
     ]
    }
   ],
   "source": [
    "# It will not work (python don't support method overloading)\n",
    "# class Area:\n",
    "#     def area(self, readius):\n",
    "#         return 3.14*radius*radius\n",
    "    \n",
    "#     def area(self, l, b):\n",
    "#         return l*b\n",
    "    \n",
    "# a = Area()\n",
    "# a.area(2, 4)\n",
    "\n",
    "# It will work (by using default arguments)\n",
    "class Area:\n",
    "    def area(self, num1, num2=0):\n",
    "        if num2 == 0:\n",
    "            return 3.14*num1*num1\n",
    "        else:\n",
    "            return num1*num2\n",
    "        \n",
    "a = Area()\n",
    "print(a.area(2))\n",
    "print(a.area(2, 4))"
   ]
  },
  {
   "cell_type": "markdown",
   "id": "34091c73",
   "metadata": {},
   "source": [
    "#### Operator Overloading\n",
    "* Same operator, but depending on different inputs its behaviour is different "
   ]
  },
  {
   "cell_type": "code",
   "execution_count": 7,
   "id": "015e4bb9",
   "metadata": {},
   "outputs": [
    {
     "data": {
      "text/plain": [
       "'helloomi'"
      ]
     },
     "execution_count": 7,
     "metadata": {},
     "output_type": "execute_result"
    }
   ],
   "source": [
    "\"hello\" + \"omi\""
   ]
  },
  {
   "cell_type": "code",
   "execution_count": 8,
   "id": "f4022b1b",
   "metadata": {},
   "outputs": [
    {
     "data": {
      "text/plain": [
       "7"
      ]
     },
     "execution_count": 8,
     "metadata": {},
     "output_type": "execute_result"
    }
   ],
   "source": [
    "3 + 4"
   ]
  },
  {
   "cell_type": "code",
   "execution_count": 9,
   "id": "ba3cfae9",
   "metadata": {},
   "outputs": [
    {
     "data": {
      "text/plain": [
       "[1, 2, 3, 4, 5, 6]"
      ]
     },
     "execution_count": 9,
     "metadata": {},
     "output_type": "execute_result"
    }
   ],
   "source": [
    "[1, 2, 3, 4] + [5, 6]"
   ]
  },
  {
   "cell_type": "markdown",
   "id": "d2631c53",
   "metadata": {},
   "source": [
    "### Abstraction\n",
    "* hidden\n",
    "* hiding the details\n",
    "* Ex. senior developer want's ki child classe apki bat mane\n",
    "* least use oop concept\n",
    "\n",
    "**Abtract class**:\n",
    "* class which contains at least one abtract method\n",
    "* Abstract method\n",
    "    * method don't have defination it only have declaration\n",
    "* You can't create the object of abstract class\n"
   ]
  },
  {
   "cell_type": "code",
   "execution_count": 2,
   "id": "7ad4516d",
   "metadata": {},
   "outputs": [],
   "source": [
    "from abc import ABC, abstractmethod\n",
    "\n",
    "class BankApp(ABC):\n",
    "    def database(self):\n",
    "        print(\"Connected to database.\")\n",
    "        \n",
    "        \n",
    "    # it's like clause (constraint)\n",
    "    @abstractmethod\n",
    "    def security(self):\n",
    "        pass\n",
    "        "
   ]
  },
  {
   "cell_type": "code",
   "execution_count": 3,
   "id": "83ff443a",
   "metadata": {},
   "outputs": [],
   "source": [
    "class MobileApp(BankApp):\n",
    "    def login(self):\n",
    "        print(\"Login into mobileapp.\")\n",
    "        \n",
    "    def security(self):\n",
    "        print(\"You are under nigrani.\")"
   ]
  },
  {
   "cell_type": "code",
   "execution_count": 4,
   "id": "b9f5185c",
   "metadata": {},
   "outputs": [
    {
     "name": "stdout",
     "output_type": "stream",
     "text": [
      "Connected to database.\n"
     ]
    }
   ],
   "source": [
    "obj = MobileApp()\n",
    "obj.database()"
   ]
  },
  {
   "cell_type": "code",
   "execution_count": 5,
   "id": "887f0c1e",
   "metadata": {},
   "outputs": [
    {
     "name": "stdout",
     "output_type": "stream",
     "text": [
      "Login into mobileapp.\n"
     ]
    }
   ],
   "source": [
    "obj.login()"
   ]
  },
  {
   "cell_type": "code",
   "execution_count": 6,
   "id": "e303b57e",
   "metadata": {},
   "outputs": [
    {
     "name": "stdout",
     "output_type": "stream",
     "text": [
      "You are under nigrani.\n"
     ]
    }
   ],
   "source": [
    "obj.security()"
   ]
  },
  {
   "cell_type": "code",
   "execution_count": 1,
   "id": "a3f44080",
   "metadata": {},
   "outputs": [],
   "source": [
    "# o = BankApp()"
   ]
  },
  {
   "cell_type": "code",
   "execution_count": 2,
   "id": "b030f011",
   "metadata": {},
   "outputs": [
    {
     "data": {
      "text/plain": [
       "1.0"
      ]
     },
     "execution_count": 2,
     "metadata": {},
     "output_type": "execute_result"
    }
   ],
   "source": []
  },
  {
   "cell_type": "code",
   "execution_count": 3,
   "id": "7e34333d",
   "metadata": {},
   "outputs": [
    {
     "ename": "TypeError",
     "evalue": "unhashable type: 'list'",
     "output_type": "error",
     "traceback": [
      "\u001b[1;31m---------------------------------------------------------------------------\u001b[0m",
      "\u001b[1;31mTypeError\u001b[0m                                 Traceback (most recent call last)",
      "Input \u001b[1;32mIn [3]\u001b[0m, in \u001b[0;36m<cell line: 4>\u001b[1;34m()\u001b[0m\n\u001b[0;32m      1\u001b[0m l \u001b[38;5;241m=\u001b[39m [\u001b[38;5;241m1\u001b[39m, \u001b[38;5;241m2\u001b[39m, \u001b[38;5;241m3\u001b[39m] \n\u001b[0;32m      2\u001b[0m s \u001b[38;5;241m=\u001b[39m \u001b[38;5;28mset\u001b[39m()\n\u001b[1;32m----> 4\u001b[0m \u001b[43ms\u001b[49m\u001b[38;5;241;43m.\u001b[39;49m\u001b[43madd\u001b[49m\u001b[43m(\u001b[49m\u001b[43ml\u001b[49m\u001b[43m)\u001b[49m\n",
      "\u001b[1;31mTypeError\u001b[0m: unhashable type: 'list'"
     ]
    }
   ],
   "source": [
    "l = [1, 2, 3] \n",
    "s = set()\n",
    "\n",
    "s.add(l)"
   ]
  },
  {
   "cell_type": "code",
   "execution_count": null,
   "id": "2c74a5fa",
   "metadata": {},
   "outputs": [],
   "source": []
  }
 ],
 "metadata": {
  "kernelspec": {
   "display_name": "Python 3 (ipykernel)",
   "language": "python",
   "name": "python3"
  },
  "language_info": {
   "codemirror_mode": {
    "name": "ipython",
    "version": 3
   },
   "file_extension": ".py",
   "mimetype": "text/x-python",
   "name": "python",
   "nbconvert_exporter": "python",
   "pygments_lexer": "ipython3",
   "version": "3.10.4"
  }
 },
 "nbformat": 4,
 "nbformat_minor": 5
}
